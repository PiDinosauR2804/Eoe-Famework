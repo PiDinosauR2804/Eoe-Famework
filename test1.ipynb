{
 "cells": [
  {
   "cell_type": "code",
   "execution_count": null,
   "metadata": {},
   "outputs": [],
   "source": [
    "from transformers import pipeline, AutoModelForCausalLM, AutoTokenizer"
   ]
  },
  {
   "cell_type": "code",
   "execution_count": null,
   "metadata": {},
   "outputs": [
    {
     "data": {
      "text/plain": [
       "173"
      ]
     },
     "execution_count": 3,
     "metadata": {},
     "output_type": "execute_result"
    }
   ],
   "source": [
    "model_name = \"gpt2\"  # Bạn có thể thay thế bằng một mô hình ngôn ngữ mã nguồn mở khác\n",
    "tokenizer = AutoTokenizer.from_pretrained(model_name)\n",
    "model = AutoModelForCausalLM.from_pretrained(model_name)\n",
    "\n",
    "generator = pipeline(\"text-generation\", model=model, tokenizer=tokenizer)\n",
    "label = 'based on'\n",
    "prompt = f\"Describe the label '{label}' in a simple and detailed way: \"\n",
    "descriptions = generator(prompt, max_length=50, num_return_sequences=1)"
   ]
  },
  {
   "cell_type": "code",
   "execution_count": null,
   "metadata": {},
   "outputs": [],
   "source": [
    "descriptions[0]['generated_text'].replace(prompt, '').strip()"
   ]
  },
  {
   "cell_type": "code",
   "execution_count": 18,
   "metadata": {},
   "outputs": [
    {
     "name": "stdout",
     "output_type": "stream",
     "text": [
      "(6, 3)\n",
      "[[[0 1 2]\n",
      "  [0 1 2]\n",
      "  [0 1 2]]\n",
      "\n",
      " [[0 1 2]\n",
      "  [0 1 2]\n",
      "  [0 1 2]]]\n",
      "New logits: [[0. 1. 2.]\n",
      " [0. 1. 2.]]\n"
     ]
    }
   ],
   "source": [
    "import numpy as np\n",
    "\n",
    "def compute_new_logits(logits, group_size=3):\n",
    "    # Đảm bảo logits là mảng numpy\n",
    "    logits = np.array(logits)\n",
    "    \n",
    "    # Kiểm tra số phần tử có chia hết cho group_size\n",
    "    if len(logits) % group_size != 0:\n",
    "        raise ValueError(\"Length of logits must be divisible by group_size\")\n",
    "    \n",
    "    print(logits.shape)\n",
    "    # Reshape mảng logits để chia thành các nhóm group_size\n",
    "    reshaped_logits = logits.reshape(-1, group_size, 3)\n",
    "    print(reshaped_logits)\n",
    "    \n",
    "    # Tính trung bình của từng nhóm\n",
    "    mean_logits = reshaped_logits.mean(axis=1)\n",
    "    \n",
    "    # Mở rộng lại thành mảng có cùng số chiều ban đầu\n",
    "    reshaped_logits = mean_logits.reshape(-1, 3)\n",
    "    \n",
    "    return reshaped_logits\n",
    "\n",
    "# Ví dụ\n",
    "logits = [[0,1,2],[0,1,2],[0,1,2],[0,1,2],[0,1,2],[0,1,2]]\n",
    "new_logits = compute_new_logits(logits)\n",
    "print(\"New logits:\", new_logits)\n"
   ]
  },
  {
   "cell_type": "code",
   "execution_count": null,
   "metadata": {},
   "outputs": [],
   "source": []
  },
  {
   "cell_type": "code",
   "execution_count": null,
   "metadata": {},
   "outputs": [],
   "source": []
  }
 ],
 "metadata": {
  "kernelspec": {
   "display_name": "Python 3",
   "language": "python",
   "name": "python3"
  },
  "language_info": {
   "codemirror_mode": {
    "name": "ipython",
    "version": 3
   },
   "file_extension": ".py",
   "mimetype": "text/x-python",
   "name": "python",
   "nbconvert_exporter": "python",
   "pygments_lexer": "ipython3",
   "version": "3.12.7"
  }
 },
 "nbformat": 4,
 "nbformat_minor": 2
}
